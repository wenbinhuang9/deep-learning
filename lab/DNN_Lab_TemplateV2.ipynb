{
  "nbformat": 4,
  "nbformat_minor": 0,
  "metadata": {
    "colab": {
      "name": "DNN_Lab_Template.ipynb",
      "provenance": [],
      "collapsed_sections": [],
      "toc_visible": true
    },
    "kernelspec": {
      "name": "python3",
      "display_name": "Python 3"
    }
  },
  "cells": [
    {
      "cell_type": "code",
      "metadata": {
        "id": "9YYcmRsysrz5",
        "colab_type": "code",
        "colab": {}
      },
      "source": [
        ""
      ],
      "execution_count": 0,
      "outputs": []
    },
    {
      "cell_type": "markdown",
      "metadata": {
        "id": "OriWw2U6sybl",
        "colab_type": "text"
      },
      "source": [
        "# DNN Lab\n",
        "\n",
        "## Objectives\n",
        "-  Understand basic DNN model building process using Keras\n",
        "-  Analyze model performance and capacity vs generalization tradeoff\n",
        "-  Modify models to reduce overfitting and improve performance\n",
        "\n",
        "## Exercises\n",
        "-  Build a DNN model for slump Test Problem\n",
        "-  Start with a model consisting of one hidden layer with 7 neurons\n",
        "-  Analyze results and explore improvements to model in terms of capacity, regularization\n",
        "\n",
        "\n",
        "\n"
      ]
    },
    {
      "cell_type": "markdown",
      "metadata": {
        "id": "tB7DNBL0N0Ud",
        "colab_type": "text"
      },
      "source": [
        "### Step 1: Import Libraries"
      ]
    },
    {
      "cell_type": "code",
      "metadata": {
        "id": "I852hV5-t78p",
        "colab_type": "code",
        "outputId": "562e02bc-0403-4b42-d6d1-878441a30eac",
        "colab": {
          "base_uri": "https://localhost:8080/",
          "height": 34
        }
      },
      "source": [
        "%tensorflow_version 2.x\n",
        "from numpy.random import seed\n",
        "seed(2)\n",
        "import tensorflow as tf\n",
        "from tensorflow import keras\n",
        "from IPython import display\n",
        "from matplotlib import cm\n",
        "from matplotlib import gridspec\n",
        "from matplotlib import pyplot as plt\n",
        "import numpy as np\n",
        "import pandas as pd\n",
        "from tensorflow.python.data import Dataset\n",
        "from sklearn import preprocessing\n",
        "from sklearn.preprocessing import StandardScaler\n",
        "print(tf.__version__)"
      ],
      "execution_count": 2,
      "outputs": [
        {
          "output_type": "stream",
          "text": [
            "2.1.0\n"
          ],
          "name": "stdout"
        }
      ]
    },
    {
      "cell_type": "markdown",
      "metadata": {
        "id": "GGcy077atqOU",
        "colab_type": "text"
      },
      "source": [
        "### Step 2: Import Data"
      ]
    },
    {
      "cell_type": "code",
      "metadata": {
        "id": "OD-62dOo7nBq",
        "colab_type": "code",
        "colab": {}
      },
      "source": [
        "\n",
        "pd.options.display.max_rows = 10\n",
        "pd.options.display.float_format = '{:.1f}'.format\n",
        "\n",
        "concrete_dataframe = pd.read_csv(\"slump_test.data\", sep=\",\")\n",
        "\n",
        "concrete_dataframe = concrete_dataframe.reindex(\n",
        "    np.random.permutation(concrete_dataframe.index))"
      ],
      "execution_count": 0,
      "outputs": []
    },
    {
      "cell_type": "code",
      "metadata": {
        "id": "7ji2VPZuygHf",
        "colab_type": "code",
        "outputId": "954ee98d-2964-44ba-d02c-74d62725ad37",
        "colab": {
          "base_uri": "https://localhost:8080/",
          "height": 34
        }
      },
      "source": [
        "concrete_dataframe.shape[0]"
      ],
      "execution_count": 5,
      "outputs": [
        {
          "output_type": "execute_result",
          "data": {
            "text/plain": [
              "103"
            ]
          },
          "metadata": {
            "tags": []
          },
          "execution_count": 5
        }
      ]
    },
    {
      "cell_type": "markdown",
      "metadata": {
        "id": "MwuVII8VN8Vn",
        "colab_type": "text"
      },
      "source": [
        "### Step 3: Preprocess"
      ]
    },
    {
      "cell_type": "code",
      "metadata": {
        "id": "6CgNl2RWHpqs",
        "colab_type": "code",
        "colab": {}
      },
      "source": [
        "def preprocess_features(concrete_dataframe):\n",
        "  \"\"\"Prepares input features from concrete slump test data set.\n",
        "\n",
        "  Args:\n",
        "    concrete_dataframe: A Pandas DataFrame expected to contain data\n",
        "      from the concrete slump test dataset.\n",
        "  Returns:\n",
        "    A DataFrame that contains the features to be used for the model. \n",
        "  \"\"\"\n",
        "  selected_features = concrete_dataframe[\n",
        "    [\"Cement\",\n",
        "     \"Slag\",\n",
        "     \"Fly ash\",\n",
        "     \"Water\",\n",
        "     \"SP\",\n",
        "     \"Coarse Aggr.\",\n",
        "     \"Fine Aggr.\"]]\n",
        "    \n",
        "  processed_features = selected_features.copy()\n",
        "  \n",
        "  return processed_features\n",
        "\n",
        "def preprocess_targets(concrete_dataframe):\n",
        "  \"\"\"Prepares target features (i.e., labels) from  housing data set.\n",
        "\n",
        "  Args:\n",
        "    dataframe: A Pandas DataFrame expected to contain data\n",
        "      from the data set.\n",
        "  Returns:\n",
        "    A DataFrame that contains the target feature.\n",
        "  \"\"\"\n",
        "  output_targets = concrete_dataframe[\"Compressive Strength (28-day)(Mpa)\"]\n",
        "  return output_targets"
      ],
      "execution_count": 0,
      "outputs": []
    },
    {
      "cell_type": "markdown",
      "metadata": {
        "id": "JPt1Gc5IOA5O",
        "colab_type": "text"
      },
      "source": [
        "**Train/Validation Split**"
      ]
    },
    {
      "cell_type": "code",
      "metadata": {
        "id": "-H4hQuVmHtC9",
        "colab_type": "code",
        "colab": {}
      },
      "source": [
        "\n"
      ],
      "execution_count": 0,
      "outputs": []
    },
    {
      "cell_type": "markdown",
      "metadata": {
        "id": "tECVdWfAOIwI",
        "colab_type": "text"
      },
      "source": [
        "### Step 4: Build Model\n",
        "\n",
        "https://www.tensorflow.org/api_docs/python/tf/keras/Model\n",
        "\n",
        "https://www.tensorflow.org/api_docs/python/tf/keras/layers/Dense\n",
        "\n",
        "https://keras.io/optimizers/"
      ]
    },
    {
      "cell_type": "code",
      "metadata": {
        "id": "xAGftzfw5eE_",
        "colab_type": "code",
        "colab": {
          "base_uri": "https://localhost:8080/",
          "height": 34
        },
        "outputId": "0be58628-d4bf-4c7a-c435-58fb70cf2ff3"
      },
      "source": [
        "training_examples.shape\n",
        "\n",
        "#training_targets.shape"
      ],
      "execution_count": 8,
      "outputs": [
        {
          "output_type": "execute_result",
          "data": {
            "text/plain": [
              "(83, 7)"
            ]
          },
          "metadata": {
            "tags": []
          },
          "execution_count": 8
        }
      ]
    },
    {
      "cell_type": "markdown",
      "metadata": {
        "id": "nft_KuzMf2Ed",
        "colab_type": "text"
      },
      "source": [
        "**Build Model**"
      ]
    },
    {
      "cell_type": "code",
      "metadata": {
        "id": "ZACG8TyLHkBN",
        "colab_type": "code",
        "colab": {}
      },
      "source": [
        ""
      ],
      "execution_count": 0,
      "outputs": []
    },
    {
      "cell_type": "markdown",
      "metadata": {
        "id": "jen50nuhf6lw",
        "colab_type": "text"
      },
      "source": [
        "**Fit Model**"
      ]
    },
    {
      "cell_type": "code",
      "metadata": {
        "id": "eLZkzMbzHzTn",
        "colab_type": "code",
        "colab": {}
      },
      "source": [
        "\n"
      ],
      "execution_count": 0,
      "outputs": []
    },
    {
      "cell_type": "markdown",
      "metadata": {
        "id": "Y5j5LJ-Igqae",
        "colab_type": "text"
      },
      "source": [
        "**Lowest Validation Error**"
      ]
    },
    {
      "cell_type": "code",
      "metadata": {
        "id": "mF6t5NkGM_iR",
        "colab_type": "code",
        "colab": {}
      },
      "source": [
        "print(min(b_history.history['val_mae']))"
      ],
      "execution_count": 0,
      "outputs": []
    },
    {
      "cell_type": "markdown",
      "metadata": {
        "id": "h6Mjw8AaOQBf",
        "colab_type": "text"
      },
      "source": [
        "### Step 5: Plot Results"
      ]
    },
    {
      "cell_type": "code",
      "metadata": {
        "id": "9VdNpFNv0eY7",
        "colab_type": "code",
        "colab": {}
      },
      "source": [
        ""
      ],
      "execution_count": 0,
      "outputs": []
    },
    {
      "cell_type": "markdown",
      "metadata": {
        "id": "GnTknKO-gz7M",
        "colab_type": "text"
      },
      "source": [
        "### Predictions"
      ]
    },
    {
      "cell_type": "code",
      "metadata": {
        "id": "99szp1XSO8f1",
        "colab_type": "code",
        "colab": {}
      },
      "source": [
        "valpreds = baseline_model.predict_on_batch(validation_examples)\n",
        "print(valpreds)"
      ],
      "execution_count": 0,
      "outputs": []
    },
    {
      "cell_type": "code",
      "metadata": {
        "id": "R2As4-FNc99b",
        "colab_type": "code",
        "colab": {}
      },
      "source": [
        "with pd.option_context('display.max_rows', None, 'display.max_columns', None):\n",
        "    print(validation_targets)"
      ],
      "execution_count": 0,
      "outputs": []
    },
    {
      "cell_type": "code",
      "metadata": {
        "id": "Zw9T2kpaJI_e",
        "colab_type": "code",
        "colab": {}
      },
      "source": [
        "# Plot Weights\n",
        "nfw = baseline_model.get_weights()[0][0]\n",
        "y_pos = np.arange(len(nfw))\n",
        " \n",
        "plt.bar(y_pos, nfw, align='center', alpha=0.5)"
      ],
      "execution_count": 0,
      "outputs": []
    }
  ]
}