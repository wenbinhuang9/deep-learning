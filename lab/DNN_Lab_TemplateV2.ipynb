{
  "nbformat": 4,
  "nbformat_minor": 0,
  "metadata": {
    "colab": {
      "name": "DNN_Lab_Template.ipynb",
      "provenance": [],
      "collapsed_sections": []
    },
    "kernelspec": {
      "name": "python3",
      "display_name": "Python 3"
    }
  },
  "cells": [
    {
      "cell_type": "code",
      "metadata": {
        "id": "9YYcmRsysrz5",
        "colab_type": "code",
        "colab": {}
      },
      "source": [
        ""
      ],
      "execution_count": null,
      "outputs": []
    },
    {
      "cell_type": "markdown",
      "metadata": {
        "id": "OriWw2U6sybl",
        "colab_type": "text"
      },
      "source": [
        "# DNN Lab\n",
        "\n",
        "## Objectives\n",
        "-  Understand basic DNN model building process using Keras\n",
        "-  Analyze model performance and capacity vs generalization tradeoff\n",
        "-  Modify models to reduce overfitting and improve performance\n",
        "\n",
        "## Exercises\n",
        "-  Build a DNN model for slump Test Problem\n",
        "-  Start with a model consisting of one hidden layer with 7 neurons\n",
        "-  Analyze results and explore improvements to model in terms of capacity, regularization\n",
        "\n",
        "\n",
        "\n"
      ]
    },
    {
      "cell_type": "markdown",
      "metadata": {
        "id": "tB7DNBL0N0Ud",
        "colab_type": "text"
      },
      "source": [
        "### Step 1: Import Libraries"
      ]
    },
    {
      "cell_type": "code",
      "metadata": {
        "id": "I852hV5-t78p",
        "colab_type": "code",
        "colab": {
          "base_uri": "https://localhost:8080/",
          "height": 34
        },
        "outputId": "28c60b0b-e037-4f97-d24b-89cbd56eff91"
      },
      "source": [
        "%tensorflow_version 2.x\n",
        "from numpy.random import seed\n",
        "seed(2)\n",
        "import tensorflow as tf\n",
        "from tensorflow import keras\n",
        "from IPython import display\n",
        "from matplotlib import cm\n",
        "from matplotlib import gridspec\n",
        "from matplotlib import pyplot as plt\n",
        "import numpy as np\n",
        "import pandas as pd\n",
        "from tensorflow.python.data import Dataset\n",
        "from sklearn import preprocessing\n",
        "from sklearn.preprocessing import StandardScaler\n",
        "print(tf.__version__)"
      ],
      "execution_count": 1,
      "outputs": [
        {
          "output_type": "stream",
          "text": [
            "2.3.0\n"
          ],
          "name": "stdout"
        }
      ]
    },
    {
      "cell_type": "markdown",
      "metadata": {
        "id": "GGcy077atqOU",
        "colab_type": "text"
      },
      "source": [
        "### Step 2: Import Data"
      ]
    },
    {
      "cell_type": "code",
      "metadata": {
        "id": "OD-62dOo7nBq",
        "colab_type": "code",
        "colab": {
          "base_uri": "https://localhost:8080/",
          "height": 493
        },
        "outputId": "79f343b5-226a-4417-a6dd-4123d65b719c"
      },
      "source": [
        "\n",
        "pd.options.display.max_rows = 10\n",
        "pd.options.display.float_format = '{:.1f}'.format\n",
        "\n",
        "concrete_dataframe = pd.read_csv(\"slump_test.data\", sep=\",\")\n",
        "\n",
        "## why reindex here \n",
        "concrete_dataframe = concrete_dataframe.reindex(\n",
        "    np.random.permutation(concrete_dataframe.index))\n"
      ],
      "execution_count": 8,
      "outputs": [
        {
          "output_type": "stream",
          "text": [
            "      No  Cement  Slag  ...  SLUMP(cm)  FLOW(cm)  Compressive Strength (28-day)(Mpa)\n",
            "0      1   273.0  82.0  ...       23.0      62.0                                35.0\n",
            "1      2   163.0 149.0  ...        0.0      20.0                                41.1\n",
            "2      3   162.0 148.0  ...        1.0      20.0                                41.8\n",
            "3      4   162.0 148.0  ...        3.0      21.5                                42.1\n",
            "4      5   154.0 112.0  ...       20.0      64.0                                26.8\n",
            "..   ...     ...   ...  ...        ...       ...                                 ...\n",
            "98    99   248.3 101.0  ...        0.0      20.0                                50.0\n",
            "99   100   248.0 101.0  ...        2.0      20.0                                50.2\n",
            "100  101   258.8  88.0  ...        0.0      20.0                                50.5\n",
            "101  102   297.1  40.9  ...       27.5      67.0                                49.2\n",
            "102  103   348.7   0.1  ...       29.0      78.0                                48.8\n",
            "\n",
            "[103 rows x 11 columns]\n",
            "    No  Cement  Slag  ...  SLUMP(cm)  FLOW(cm)  Compressive Strength (28-day)(Mpa)\n",
            "40  41   145.0 177.0  ...        2.5      20.0                                35.7\n",
            "73  74   294.0 106.0  ...       24.0      47.0                                41.3\n",
            "7    8   145.0   0.0  ...       14.5      58.5                                36.6\n",
            "52  53   356.0 142.0  ...        8.0      30.0                                36.5\n",
            "44  45   298.0 107.0  ...        3.0      20.0                                31.0\n",
            "..  ..     ...   ...  ...        ...       ...                                 ...\n",
            "6    7   152.0 139.0  ...        0.0      20.0                                38.9\n",
            "80  81   140.1   4.2  ...       24.5      57.0                                26.4\n",
            "90  91   155.4 122.1  ...       14.5      41.5                                35.5\n",
            "20  21   305.0 100.0  ...       20.0      49.0                                29.8\n",
            "28  29   298.0 107.0  ...       16.0      26.0                                41.3\n",
            "\n",
            "[103 rows x 11 columns]\n"
          ],
          "name": "stdout"
        }
      ]
    },
    {
      "cell_type": "code",
      "metadata": {
        "id": "7ji2VPZuygHf",
        "colab_type": "code",
        "colab": {
          "base_uri": "https://localhost:8080/",
          "height": 34
        },
        "outputId": "954ee98d-2964-44ba-d02c-74d62725ad37"
      },
      "source": [
        "concrete_dataframe.shape[0]"
      ],
      "execution_count": null,
      "outputs": [
        {
          "output_type": "execute_result",
          "data": {
            "text/plain": [
              "103"
            ]
          },
          "metadata": {
            "tags": []
          },
          "execution_count": 5
        }
      ]
    },
    {
      "cell_type": "markdown",
      "metadata": {
        "id": "MwuVII8VN8Vn",
        "colab_type": "text"
      },
      "source": [
        "### Step 3: Preprocess"
      ]
    },
    {
      "cell_type": "code",
      "metadata": {
        "id": "6CgNl2RWHpqs",
        "colab_type": "code",
        "colab": {}
      },
      "source": [
        "def preprocess_features(concrete_dataframe):\n",
        "  \"\"\"Prepares input features from concrete slump test data set.\n",
        "\n",
        "  Args:\n",
        "    concrete_dataframe: A Pandas DataFrame expected to contain data\n",
        "      from the concrete slump test dataset.\n",
        "  Returns:\n",
        "    A DataFrame that contains the features to be used for the model. \n",
        "  \"\"\"\n",
        "  selected_features = concrete_dataframe[\n",
        "    [\"Cement\",\n",
        "     \"Slag\",\n",
        "     \"Fly ash\",\n",
        "     \"Water\",\n",
        "     \"SP\",\n",
        "     \"Coarse Aggr.\",\n",
        "     \"Fine Aggr.\"]]\n",
        "    \n",
        "  processed_features = selected_features.copy()\n",
        "  \n",
        "  return processed_features\n",
        "\n",
        "def preprocess_targets(concrete_dataframe):\n",
        "  \"\"\"Prepares target features (i.e., labels) from  housing data set.\n",
        "\n",
        "  Args:\n",
        "    dataframe: A Pandas DataFrame expected to contain data\n",
        "      from the data set.\n",
        "  Returns:\n",
        "    A DataFrame that contains the target feature.\n",
        "  \"\"\"\n",
        "  output_targets = concrete_dataframe[\"Compressive Strength (28-day)(Mpa)\"]\n",
        "  return output_targets"
      ],
      "execution_count": 9,
      "outputs": []
    },
    {
      "cell_type": "markdown",
      "metadata": {
        "id": "JPt1Gc5IOA5O",
        "colab_type": "text"
      },
      "source": [
        "**Train/Validation Split**"
      ]
    },
    {
      "cell_type": "code",
      "metadata": {
        "id": "-H4hQuVmHtC9",
        "colab_type": "code",
        "colab": {
          "base_uri": "https://localhost:8080/",
          "height": 951
        },
        "outputId": "2e593a4c-501e-42fd-97bf-2135bcb2ea64"
      },
      "source": [
        "\n",
        "# Choose the first 83 examples for training.\n",
        "training_examples=preprocess_features(concrete_dataframe.head(83))\n",
        "training_targets = preprocess_targets(concrete_dataframe.head(83))\n",
        "\n",
        "# Choose the 20 examples for validation.\n",
        "validation_examples=preprocess_features(concrete_dataframe.tail(20))\n",
        "validation_targets=preprocess_targets(concrete_dataframe.tail(20))\n",
        "\n",
        "# Double-check that we've done the right thing.\n",
        "print(\"Training examples summary:\")\n",
        "display.display(training_examples.describe())\n",
        "print(\"Validation examples summary:\")\n",
        "display.display(validation_examples.describe())\n",
        "\n",
        "print(\"Training targets summary:\")\n",
        "display.display(training_targets.describe())\n",
        "print(\"Validation targets summary:\")\n",
        "display.display(validation_targets.describe())"
      ],
      "execution_count": 13,
      "outputs": [
        {
          "output_type": "stream",
          "text": [
            "Training examples summary:\n"
          ],
          "name": "stdout"
        },
        {
          "output_type": "display_data",
          "data": {
            "text/html": [
              "<div>\n",
              "<style scoped>\n",
              "    .dataframe tbody tr th:only-of-type {\n",
              "        vertical-align: middle;\n",
              "    }\n",
              "\n",
              "    .dataframe tbody tr th {\n",
              "        vertical-align: top;\n",
              "    }\n",
              "\n",
              "    .dataframe thead th {\n",
              "        text-align: right;\n",
              "    }\n",
              "</style>\n",
              "<table border=\"1\" class=\"dataframe\">\n",
              "  <thead>\n",
              "    <tr style=\"text-align: right;\">\n",
              "      <th></th>\n",
              "      <th>Cement</th>\n",
              "      <th>Slag</th>\n",
              "      <th>Fly ash</th>\n",
              "      <th>Water</th>\n",
              "      <th>SP</th>\n",
              "      <th>Coarse Aggr.</th>\n",
              "      <th>Fine Aggr.</th>\n",
              "    </tr>\n",
              "  </thead>\n",
              "  <tbody>\n",
              "    <tr>\n",
              "      <th>count</th>\n",
              "      <td>83.0</td>\n",
              "      <td>83.0</td>\n",
              "      <td>83.0</td>\n",
              "      <td>83.0</td>\n",
              "      <td>83.0</td>\n",
              "      <td>83.0</td>\n",
              "      <td>83.0</td>\n",
              "    </tr>\n",
              "    <tr>\n",
              "      <th>mean</th>\n",
              "      <td>234.1</td>\n",
              "      <td>78.9</td>\n",
              "      <td>148.2</td>\n",
              "      <td>198.2</td>\n",
              "      <td>8.6</td>\n",
              "      <td>874.5</td>\n",
              "      <td>742.2</td>\n",
              "    </tr>\n",
              "    <tr>\n",
              "      <th>std</th>\n",
              "      <td>79.4</td>\n",
              "      <td>61.7</td>\n",
              "      <td>85.2</td>\n",
              "      <td>20.3</td>\n",
              "      <td>2.7</td>\n",
              "      <td>85.8</td>\n",
              "      <td>65.0</td>\n",
              "    </tr>\n",
              "    <tr>\n",
              "      <th>min</th>\n",
              "      <td>140.0</td>\n",
              "      <td>0.0</td>\n",
              "      <td>0.0</td>\n",
              "      <td>160.0</td>\n",
              "      <td>4.4</td>\n",
              "      <td>721.0</td>\n",
              "      <td>640.9</td>\n",
              "    </tr>\n",
              "    <tr>\n",
              "      <th>25%</th>\n",
              "      <td>153.5</td>\n",
              "      <td>0.0</td>\n",
              "      <td>115.5</td>\n",
              "      <td>181.0</td>\n",
              "      <td>6.0</td>\n",
              "      <td>799.0</td>\n",
              "      <td>684.5</td>\n",
              "    </tr>\n",
              "    <tr>\n",
              "      <th>50%</th>\n",
              "      <td>258.8</td>\n",
              "      <td>99.0</td>\n",
              "      <td>164.0</td>\n",
              "      <td>200.0</td>\n",
              "      <td>8.3</td>\n",
              "      <td>871.0</td>\n",
              "      <td>745.0</td>\n",
              "    </tr>\n",
              "    <tr>\n",
              "      <th>75%</th>\n",
              "      <td>305.5</td>\n",
              "      <td>127.5</td>\n",
              "      <td>235.9</td>\n",
              "      <td>210.0</td>\n",
              "      <td>10.0</td>\n",
              "      <td>926.1</td>\n",
              "      <td>788.0</td>\n",
              "    </tr>\n",
              "    <tr>\n",
              "      <th>max</th>\n",
              "      <td>374.0</td>\n",
              "      <td>193.0</td>\n",
              "      <td>260.0</td>\n",
              "      <td>240.0</td>\n",
              "      <td>19.0</td>\n",
              "      <td>1049.9</td>\n",
              "      <td>902.0</td>\n",
              "    </tr>\n",
              "  </tbody>\n",
              "</table>\n",
              "</div>"
            ],
            "text/plain": [
              "       Cement  Slag  Fly ash  Water   SP  Coarse Aggr.  Fine Aggr.\n",
              "count    83.0  83.0     83.0   83.0 83.0          83.0        83.0\n",
              "mean    234.1  78.9    148.2  198.2  8.6         874.5       742.2\n",
              "std      79.4  61.7     85.2   20.3  2.7          85.8        65.0\n",
              "min     140.0   0.0      0.0  160.0  4.4         721.0       640.9\n",
              "25%     153.5   0.0    115.5  181.0  6.0         799.0       684.5\n",
              "50%     258.8  99.0    164.0  200.0  8.3         871.0       745.0\n",
              "75%     305.5 127.5    235.9  210.0 10.0         926.1       788.0\n",
              "max     374.0 193.0    260.0  240.0 19.0        1049.9       902.0"
            ]
          },
          "metadata": {
            "tags": []
          }
        },
        {
          "output_type": "stream",
          "text": [
            "Validation examples summary:\n"
          ],
          "name": "stdout"
        },
        {
          "output_type": "display_data",
          "data": {
            "text/html": [
              "<div>\n",
              "<style scoped>\n",
              "    .dataframe tbody tr th:only-of-type {\n",
              "        vertical-align: middle;\n",
              "    }\n",
              "\n",
              "    .dataframe tbody tr th {\n",
              "        vertical-align: top;\n",
              "    }\n",
              "\n",
              "    .dataframe thead th {\n",
              "        text-align: right;\n",
              "    }\n",
              "</style>\n",
              "<table border=\"1\" class=\"dataframe\">\n",
              "  <thead>\n",
              "    <tr style=\"text-align: right;\">\n",
              "      <th></th>\n",
              "      <th>Cement</th>\n",
              "      <th>Slag</th>\n",
              "      <th>Fly ash</th>\n",
              "      <th>Water</th>\n",
              "      <th>SP</th>\n",
              "      <th>Coarse Aggr.</th>\n",
              "      <th>Fine Aggr.</th>\n",
              "    </tr>\n",
              "  </thead>\n",
              "  <tbody>\n",
              "    <tr>\n",
              "      <th>count</th>\n",
              "      <td>20.0</td>\n",
              "      <td>20.0</td>\n",
              "      <td>20.0</td>\n",
              "      <td>20.0</td>\n",
              "      <td>20.0</td>\n",
              "      <td>20.0</td>\n",
              "      <td>20.0</td>\n",
              "    </tr>\n",
              "    <tr>\n",
              "      <th>mean</th>\n",
              "      <td>212.5</td>\n",
              "      <td>74.2</td>\n",
              "      <td>152.2</td>\n",
              "      <td>192.9</td>\n",
              "      <td>8.3</td>\n",
              "      <td>923.4</td>\n",
              "      <td>729.0</td>\n",
              "    </tr>\n",
              "    <tr>\n",
              "      <th>std</th>\n",
              "      <td>76.2</td>\n",
              "      <td>56.6</td>\n",
              "      <td>88.4</td>\n",
              "      <td>19.7</td>\n",
              "      <td>3.1</td>\n",
              "      <td>90.1</td>\n",
              "      <td>56.4</td>\n",
              "    </tr>\n",
              "    <tr>\n",
              "      <th>min</th>\n",
              "      <td>137.0</td>\n",
              "      <td>0.0</td>\n",
              "      <td>0.0</td>\n",
              "      <td>168.0</td>\n",
              "      <td>4.6</td>\n",
              "      <td>708.0</td>\n",
              "      <td>640.6</td>\n",
              "    </tr>\n",
              "    <tr>\n",
              "      <th>25%</th>\n",
              "      <td>141.8</td>\n",
              "      <td>3.3</td>\n",
              "      <td>127.0</td>\n",
              "      <td>175.5</td>\n",
              "      <td>6.0</td>\n",
              "      <td>858.5</td>\n",
              "      <td>691.6</td>\n",
              "    </tr>\n",
              "    <tr>\n",
              "      <th>50%</th>\n",
              "      <td>158.5</td>\n",
              "      <td>100.5</td>\n",
              "      <td>172.5</td>\n",
              "      <td>191.4</td>\n",
              "      <td>7.8</td>\n",
              "      <td>947.5</td>\n",
              "      <td>717.5</td>\n",
              "    </tr>\n",
              "    <tr>\n",
              "      <th>75%</th>\n",
              "      <td>292.8</td>\n",
              "      <td>114.5</td>\n",
              "      <td>221.7</td>\n",
              "      <td>205.0</td>\n",
              "      <td>10.0</td>\n",
              "      <td>991.5</td>\n",
              "      <td>786.0</td>\n",
              "    </tr>\n",
              "    <tr>\n",
              "      <th>max</th>\n",
              "      <td>322.0</td>\n",
              "      <td>167.0</td>\n",
              "      <td>246.0</td>\n",
              "      <td>231.0</td>\n",
              "      <td>18.0</td>\n",
              "      <td>1049.5</td>\n",
              "      <td>821.0</td>\n",
              "    </tr>\n",
              "  </tbody>\n",
              "</table>\n",
              "</div>"
            ],
            "text/plain": [
              "       Cement  Slag  Fly ash  Water   SP  Coarse Aggr.  Fine Aggr.\n",
              "count    20.0  20.0     20.0   20.0 20.0          20.0        20.0\n",
              "mean    212.5  74.2    152.2  192.9  8.3         923.4       729.0\n",
              "std      76.2  56.6     88.4   19.7  3.1          90.1        56.4\n",
              "min     137.0   0.0      0.0  168.0  4.6         708.0       640.6\n",
              "25%     141.8   3.3    127.0  175.5  6.0         858.5       691.6\n",
              "50%     158.5 100.5    172.5  191.4  7.8         947.5       717.5\n",
              "75%     292.8 114.5    221.7  205.0 10.0         991.5       786.0\n",
              "max     322.0 167.0    246.0  231.0 18.0        1049.5       821.0"
            ]
          },
          "metadata": {
            "tags": []
          }
        },
        {
          "output_type": "stream",
          "text": [
            "Training targets summary:\n"
          ],
          "name": "stdout"
        },
        {
          "output_type": "display_data",
          "data": {
            "text/plain": [
              "count   83.0\n",
              "mean    36.4\n",
              "std      8.2\n",
              "min     17.2\n",
              "25%     31.4\n",
              "50%     36.2\n",
              "75%     41.7\n",
              "max     58.5\n",
              "Name: Compressive Strength (28-day)(Mpa), dtype: float64"
            ]
          },
          "metadata": {
            "tags": []
          }
        },
        {
          "output_type": "stream",
          "text": [
            "Validation targets summary:\n"
          ],
          "name": "stdout"
        },
        {
          "output_type": "display_data",
          "data": {
            "text/plain": [
              "count   20.0\n",
              "mean    34.4\n",
              "std      6.1\n",
              "min     26.4\n",
              "25%     30.3\n",
              "50%     33.8\n",
              "75%     36.4\n",
              "max     50.0\n",
              "Name: Compressive Strength (28-day)(Mpa), dtype: float64"
            ]
          },
          "metadata": {
            "tags": []
          }
        }
      ]
    },
    {
      "cell_type": "markdown",
      "metadata": {
        "id": "tECVdWfAOIwI",
        "colab_type": "text"
      },
      "source": [
        "### Step 4: Build Model\n",
        "\n",
        "https://www.tensorflow.org/api_docs/python/tf/keras/Model\n",
        "\n",
        "https://www.tensorflow.org/api_docs/python/tf/keras/layers/Dense\n",
        "\n",
        "https://keras.io/optimizers/"
      ]
    },
    {
      "cell_type": "code",
      "metadata": {
        "id": "xAGftzfw5eE_",
        "colab_type": "code",
        "colab": {
          "base_uri": "https://localhost:8080/",
          "height": 34
        },
        "outputId": "0be58628-d4bf-4c7a-c435-58fb70cf2ff3"
      },
      "source": [
        "training_examples.shape\n",
        "\n",
        "#training_targets.shape"
      ],
      "execution_count": null,
      "outputs": [
        {
          "output_type": "execute_result",
          "data": {
            "text/plain": [
              "(83, 7)"
            ]
          },
          "metadata": {
            "tags": []
          },
          "execution_count": 8
        }
      ]
    },
    {
      "cell_type": "markdown",
      "metadata": {
        "id": "nft_KuzMf2Ed",
        "colab_type": "text"
      },
      "source": [
        "**Build Model**"
      ]
    },
    {
      "cell_type": "code",
      "metadata": {
        "id": "ZACG8TyLHkBN",
        "colab_type": "code",
        "colab": {
          "base_uri": "https://localhost:8080/",
          "height": 221
        },
        "outputId": "fdc7b603-4dd8-4172-f149-8b544eed5e12"
      },
      "source": [
        "baseline_model=keras.Sequential([keras.layers.Dense(4,activation=tf.nn.relu,\n",
        "                       input_shape=(training_examples.shape[1],)),\n",
        "                       keras.layers.Dense(1)])\n",
        "\n",
        "baseline_model.compile(loss='mse',optimizer=\"rmsprop\",metrics=['mae'])\n",
        "baseline_model.summary()"
      ],
      "execution_count": 21,
      "outputs": [
        {
          "output_type": "stream",
          "text": [
            "Model: \"sequential\"\n",
            "_________________________________________________________________\n",
            "Layer (type)                 Output Shape              Param #   \n",
            "=================================================================\n",
            "dense (Dense)                (None, 4)                 32        \n",
            "_________________________________________________________________\n",
            "dense_1 (Dense)              (None, 1)                 5         \n",
            "=================================================================\n",
            "Total params: 37\n",
            "Trainable params: 37\n",
            "Non-trainable params: 0\n",
            "_________________________________________________________________\n"
          ],
          "name": "stdout"
        }
      ]
    },
    {
      "cell_type": "markdown",
      "metadata": {
        "id": "jen50nuhf6lw",
        "colab_type": "text"
      },
      "source": [
        "**Fit Model**"
      ]
    },
    {
      "cell_type": "code",
      "metadata": {
        "id": "eLZkzMbzHzTn",
        "colab_type": "code",
        "colab": {
          "base_uri": "https://localhost:8080/",
          "height": 119
        },
        "outputId": "7192d750-2d06-41c7-d945-93bde5fac634"
      },
      "source": [
        "\n",
        "class PrintDot(keras.callbacks.Callback):\n",
        "  def on_epoch_end(self, epoch, logs):\n",
        "    if epoch % 100 == 0: print('')\n",
        "    print('.', end='')\n",
        "\n",
        "EPOCHS = 500\n",
        "b_history = baseline_model.fit(training_examples, training_targets, epochs=EPOCHS,\n",
        "                    validation_data= (validation_examples, validation_targets), verbose=0,\n",
        "                    callbacks=[PrintDot()])"
      ],
      "execution_count": 22,
      "outputs": [
        {
          "output_type": "stream",
          "text": [
            "\n",
            "....................................................................................................\n",
            "....................................................................................................\n",
            "....................................................................................................\n",
            "....................................................................................................\n",
            "...................................................................................................."
          ],
          "name": "stdout"
        }
      ]
    },
    {
      "cell_type": "markdown",
      "metadata": {
        "id": "Y5j5LJ-Igqae",
        "colab_type": "text"
      },
      "source": [
        "**Lowest Validation Error**"
      ]
    },
    {
      "cell_type": "code",
      "metadata": {
        "id": "mF6t5NkGM_iR",
        "colab_type": "code",
        "colab": {
          "base_uri": "https://localhost:8080/",
          "height": 221
        },
        "outputId": "710fe041-74d1-41a1-abef-69dead3c7d3c"
      },
      "source": [
        "print(min(b_history.history['val_mae']))\n",
        "\n",
        "# Choose the first 83 examples for training.\n",
        "training_examples = preprocess_features(concrete_dataframe.head(83))\n",
        "training_targets = preprocess_targets(concrete_dataframe.head(83))\n",
        "scaler = StandardScaler().fit(training_examples.values)\n",
        "scaledf = scaler.transform(training_examples.values)\n",
        "training_examples = pd.DataFrame(scaledf, index=training_examples.index, columns=training_examples.columns)\n",
        "\n",
        "\n",
        "# Choose the 20 examples for validation.\n",
        "validation_examples = preprocess_features(concrete_dataframe.tail(20))\n",
        "vscaled = scaler.transform(validation_examples.values)\n",
        "validation_examples = pd.DataFrame(vscaled, index=validation_examples.index, columns=validation_examples.columns)\n",
        "validation_targets = preprocess_targets(concrete_dataframe.tail(20))\n",
        "\n",
        "\n",
        "l1_model=keras.Sequential([\n",
        "            keras.layers.Dense(32,kernel_regularizer=keras.regularizers.l1(0.1),activation=tf.nn.relu,input_shape=(training_examples.shape[1],)),\n",
        "            keras.layers.Dense(32,use_bias=True,kernel_regularizer=keras.regularizers.l1(0.01),activation=tf.nn.relu),\n",
        "            keras.layers.Dense(32,use_bias=True,kernel_regularizer=keras.regularizers.l1(0.01),activation=tf.nn.relu),\n",
        "            keras.layers.Dense(32,use_bias=True,kernel_regularizer=keras.regularizers.l1(0.01),activation=tf.nn.relu),\n",
        "            keras.layers.Dense(1)]) \n",
        "l1_model.compile(loss='mse',optimizer=\"rmsprop\",metrics=['mae'])\n",
        "\n",
        "l1_history = l1_model.fit(training_examples, training_targets, epochs=EPOCHS,\n",
        "                    validation_data= (validation_examples, validation_targets), verbose=0,\n",
        "                    callbacks=[PrintDot()])\n",
        "print(\"finish l1 \")\n",
        "l2_model=keras.Sequential([\n",
        "keras.layers.Dense(10,kernel_regularizer=keras.regularizers.l2(0.1),activation=tf.nn.relu,input_shape=(training_examples.shape[1],)),\n",
        "keras.layers.Dropout(0.25),\n",
        "keras.layers.Dense(10,kernel_regularizer=keras.regularizers.l2(0.1),activation=tf.nn.relu),\n",
        "keras.layers.Dropout(0.25),\n",
        "keras.layers.Dense(10,kernel_regularizer=keras.regularizers.l2(0.1),activation=tf.nn.relu),\n",
        "keras.layers.Dropout(0.25),\n",
        "keras.layers.Dense(10,kernel_regularizer=keras.regularizers.l2(0.1),activation=tf.nn.relu),\n",
        "keras.layers.Dense(1)\n",
        "])\n",
        "\n",
        "l2_model.compile(loss='mse',optimizer=\"rmsprop\",metrics=['mae'])\n",
        "\n",
        "l2_history = l2_model.fit(training_examples, training_targets, epochs=EPOCHS,\n",
        "                    validation_data= (validation_examples, validation_targets), verbose=0,\n",
        "                    callbacks=[PrintDot()])\n",
        "print(\"finish l2\")"
      ],
      "execution_count": 43,
      "outputs": [
        {
          "output_type": "stream",
          "text": [
            "3.644069194793701\n",
            "\n",
            "....................................................................................................\n",
            "....................................................................................................\n",
            "....................................................................................................\n",
            "....................................................................................................\n",
            "....................................................................................................\n",
            "....................................................................................................\n",
            "....................................................................................................\n",
            "....................................................................................................\n",
            "....................................................................................................\n",
            "...................................................................................................."
          ],
          "name": "stdout"
        }
      ]
    },
    {
      "cell_type": "markdown",
      "metadata": {
        "id": "h6Mjw8AaOQBf",
        "colab_type": "text"
      },
      "source": [
        "### Step 5: Plot Results"
      ]
    },
    {
      "cell_type": "code",
      "metadata": {
        "id": "9VdNpFNv0eY7",
        "colab_type": "code",
        "colab": {
          "base_uri": "https://localhost:8080/",
          "height": 610
        },
        "outputId": "1f937f96-befa-4093-bce4-f16246772333"
      },
      "source": [
        "import matplotlib.pyplot as plt\n",
        "\n",
        "\n",
        "def plot_history(histories, key='mae'):\n",
        "  plt.figure(figsize=(16,10))\n",
        "  for name, history in histories:\n",
        "    val = plt.plot(history.epoch, history.history['val_'+key],\n",
        "                   '--', label=name.title()+' Val')\n",
        "    plt.plot(history.epoch, history.history[key], color=val[0].get_color(),\n",
        "             label=name.title()+' Train')\n",
        "\n",
        "  plt.xlabel('Epochs')\n",
        "  plt.ylabel(key.replace('_',' ').title())\n",
        "  plt.legend()\n",
        "\n",
        "  plt.xlim([0,max(history.epoch)])\n",
        "  plt.ylim([0,50])\n",
        "  \n",
        "plot_history([('baseline',b_history),('L1',l1_history),('L2',l2_history)])\n",
        "  "
      ],
      "execution_count": 46,
      "outputs": [
        {
          "output_type": "display_data",
          "data": {
            "image/png": "[encoded data removed]",
            "text/plain": [
              "<Figure size 1152x720 with 1 Axes>"
            ]
          },
          "metadata": {
            "tags": [],
            "needs_background": "light"
          }
        }
      ]
    },
    {
      "cell_type": "markdown",
      "metadata": {
        "id": "GnTknKO-gz7M",
        "colab_type": "text"
      },
      "source": [
        "### Predictions"
      ]
    },
    {
      "cell_type": "code",
      "metadata": {
        "id": "99szp1XSO8f1",
        "colab_type": "code",
        "colab": {
          "base_uri": "https://localhost:8080/",
          "height": 357
        },
        "outputId": "809f2c46-9045-4998-be79-223e49b9e3ec"
      },
      "source": [
        "valpreds = baseline_model.predict_on_batch(validation_examples)\n",
        "print(valpreds)"
      ],
      "execution_count": 47,
      "outputs": [
        {
          "output_type": "stream",
          "text": [
            "[[-0.18896003]\n",
            " [ 0.34387326]\n",
            " [ 1.0055695 ]\n",
            " [ 0.2558768 ]\n",
            " [ 0.6641883 ]\n",
            " [-0.1504335 ]\n",
            " [ 0.08530763]\n",
            " [-0.5231406 ]\n",
            " [ 0.00798285]\n",
            " [-0.7133322 ]\n",
            " [-0.36520046]\n",
            " [-0.41224653]\n",
            " [ 0.60352415]\n",
            " [ 0.21925719]\n",
            " [ 0.0261942 ]\n",
            " [ 0.46359247]\n",
            " [-0.12306465]\n",
            " [ 0.5323409 ]\n",
            " [ 0.227642  ]\n",
            " [ 0.87641037]]\n"
          ],
          "name": "stdout"
        }
      ]
    },
    {
      "cell_type": "code",
      "metadata": {
        "id": "R2As4-FNc99b",
        "colab_type": "code",
        "colab": {
          "base_uri": "https://localhost:8080/",
          "height": 374
        },
        "outputId": "b6b8484b-9d80-43cd-b183-63b4eaa527cb"
      },
      "source": [
        "with pd.option_context('display.max_rows', None, 'display.max_columns', None):\n",
        "    print(validation_targets)"
      ],
      "execution_count": 48,
      "outputs": [
        {
          "output_type": "stream",
          "text": [
            "79   30.4\n",
            "76   32.6\n",
            "34   34.5\n",
            "54   45.4\n",
            "4    26.8\n",
            "83   36.3\n",
            "63   30.4\n",
            "36   33.1\n",
            "85   31.0\n",
            "21   36.2\n",
            "57   29.6\n",
            "43   27.6\n",
            "98   50.0\n",
            "24   36.7\n",
            "38   35.0\n",
            "6    38.9\n",
            "80   26.4\n",
            "90   35.5\n",
            "20   29.8\n",
            "28   41.3\n",
            "Name: Compressive Strength (28-day)(Mpa), dtype: float64\n"
          ],
          "name": "stdout"
        }
      ]
    },
    {
      "cell_type": "code",
      "metadata": {
        "id": "Zw9T2kpaJI_e",
        "colab_type": "code",
        "colab": {
          "base_uri": "https://localhost:8080/",
          "height": 282
        },
        "outputId": "1f795968-b2ee-4908-a142-9f2f08df2a3f"
      },
      "source": [
        "# Plot Weights\n",
        "nfw = baseline_model.get_weights()[0][0]\n",
        "y_pos = np.arange(len(nfw))\n",
        " \n",
        "plt.bar(y_pos, nfw, align='center', alpha=0.5)"
      ],
      "execution_count": 49,
      "outputs": [
        {
          "output_type": "execute_result",
          "data": {
            "text/plain": [
              "<BarContainer object of 4 artists>"
            ]
          },
          "metadata": {
            "tags": []
          },
          "execution_count": 49
        },
        {
          "output_type": "display_data",
          "data": {
            "image/png": "[encoded data removed]",
            "text/plain": [
              "<Figure size 432x288 with 1 Axes>"
            ]
          },
          "metadata": {
            "tags": [],
            "needs_background": "light"
          }
        }
      ]
    }
  ]
}